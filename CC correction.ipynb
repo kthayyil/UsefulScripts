{
 "cells": [
  {
   "cell_type": "markdown",
   "id": "85991a66",
   "metadata": {},
   "source": [
    "## SDHH - Subtitles for the deaf and hard of hearing. \n",
    "This is what we usually get as subtitles for most English movies \n",
    "This can be annoying to non-deaf, non-native speakers of English as it points out obvious things that are happening in the movie. \n",
    "\n",
    "### The following is a script that takes in a .srt file, parses it, and deletes all instances of [SDHH captions] in it  "
   ]
  },
  {
   "cell_type": "code",
   "execution_count": 1,
   "id": "65605904",
   "metadata": {},
   "outputs": [],
   "source": [
    "# Open the subtitle file, load the contents into a list of strings\n",
    "subtitleFile = open('C:/Users/kevin/Deluge/The Gentlemen.2020.1080p.WEB-DL.H264.AC3-EVO/subs.srt','r')\n",
    "\n",
    "lineList = subtitleFile.readlines() # creates a list of strings. Each element is aline from the file \n",
    "\n",
    "subtitleFile.close() # close the file since we have loaded it into a list. We no longer need it."
   ]
  },
  {
   "cell_type": "markdown",
   "id": "99ad1b2d",
   "metadata": {},
   "source": [
    "### The below code turns the srt file into a dictionary.\n",
    "\n",
    "Structure of the dictionary is: \n",
    "\n",
    "{subtitle index number : [subtitle index number,TIMESTAMP, line1, line2....lastline, '\\n'] }\n",
    "\n",
    "The dictionary key is an int. Everything else is a string. "
   ]
  },
  {
   "cell_type": "code",
   "execution_count": 2,
   "id": "7561a3a5",
   "metadata": {},
   "outputs": [],
   "source": [
    "oldLineIndex = 1\n",
    "oldsubsDict = {}\n",
    "\n",
    "currentSubSet = []\n",
    "\n",
    "oldLineIndex = 1\n",
    "currentSubSet = [] # This stores all the line between 2 index lines\n",
    "oldsubsDict = {} # This will store each subset keyed to the subtitle index number\n",
    "for lineListIndex in range(len(lineList)):\n",
    "    currentLine = lineList[lineListIndex]\n",
    "    try:\n",
    "        currentLineInt = int(currentLine)\n",
    "#         print(currentSubSet)\n",
    "        oldsubsDict[currentLineInt-1] = currentSubSet # Store the subset into the dictionary\n",
    "        currentSubSet = [] # reset the currentSubSet \n",
    "        if currentLineInt == oldLineIndex: # Check to see if current line is a subtitle index\n",
    "            oldLineIndex += 1\n",
    "        else:\n",
    "            currentSubSet.append(currentLine)\n",
    "    \n",
    "    except: # An exception means that a non index line has been read\n",
    "        currentSubSet.append(currentLine)\n",
    "        \n",
    "# print(currentSubSet) # don't delete this. Very useful to debug. \n",
    "\n",
    "oldsubsDict[currentLineInt] = currentSubSet # Store the subset into the dictionary\n",
    "del(oldsubsDict[0]) # Remove the first element key - [0] from the dicitonary. This is caused by a 1-off error in the above loop\n",
    "# print (oldsubsDict) # To check result"
   ]
  },
  {
   "cell_type": "markdown",
   "id": "279eec18",
   "metadata": {},
   "source": [
    "# BIG BRAIN LOGIC to detect [noise] captions"
   ]
  },
  {
   "cell_type": "code",
   "execution_count": null,
   "id": "53d7bb23",
   "metadata": {},
   "outputs": [],
   "source": [
    "subsetsTodelete = [] # list of all subtitle 'sets' to be deleted,  \n",
    "for subsetIndex in oldsubsDict:\n",
    "    subset = oldsubsDict[subsetIndex]\n",
    "    for line in subset:\n",
    "        # BIG BRAIN LOGIC\n",
    "        if line.find('[') == 0: # 0 means the character was found in string. \n",
    "            # Therefore this line contains SDHH, skip this subset \n",
    "#             print(subset[1:-1]) for debugging only \n",
    "            subsetsTodelete.append(subsetIndex)  "
   ]
  },
  {
   "cell_type": "markdown",
   "id": "89c65089",
   "metadata": {},
   "source": [
    "Create a new dictionary with the offending lines removed :"
   ]
  },
  {
   "cell_type": "code",
   "execution_count": 3,
   "id": "e4c24146",
   "metadata": {},
   "outputs": [],
   "source": [
    "newsubsDict = oldsubsDict\n",
    "for key in subsetsTodelete:\n",
    "    del(newsubsDict[key])"
   ]
  },
  {
   "cell_type": "markdown",
   "id": "746618d5",
   "metadata": {},
   "source": [
    "Write this new subtitle dictionary into a .srt file\n",
    "\n",
    "For this we must first convert it into a list; each element in the list will become a line in the .srt file"
   ]
  },
  {
   "cell_type": "code",
   "execution_count": 4,
   "id": "b5cb29d1",
   "metadata": {},
   "outputs": [],
   "source": [
    "subtitleindex = 1  # Since we deleted line earlier, we will manually re-create index markers \n",
    "lines_to_be_written = [] # a 1D list containing all the lines that will be written to the .srt file\n",
    "\n",
    "for subsetIndex in newsubsDict:\n",
    "    lines_to_be_written.append(str(subtitleindex)+'\\n') # re-creating index markers \n",
    "    subset = newsubsDict[subsetIndex]\n",
    "    for line in subset:\n",
    "        lines_to_be_written.append(line)\n",
    "    subtitleindex += 1\n",
    "\n",
    "# Write the lines to a readable text file with .srt extension\n",
    "with open('C:/Users/kevin/Deluge/The Gentlemen.2020.1080p.WEB-DL.H264.AC3-EVO/subs_new.srt','w') as newSRTfile:\n",
    "    newSRTfile.writelines(lines_to_be_written)\n",
    "newSRTfile.close()"
   ]
  }
 ],
 "metadata": {
  "kernelspec": {
   "display_name": "Python 3 (ipykernel)",
   "language": "python",
   "name": "python3"
  },
  "language_info": {
   "codemirror_mode": {
    "name": "ipython",
    "version": 3
   },
   "file_extension": ".py",
   "mimetype": "text/x-python",
   "name": "python",
   "nbconvert_exporter": "python",
   "pygments_lexer": "ipython3",
   "version": "3.9.6"
  }
 },
 "nbformat": 4,
 "nbformat_minor": 5
}
